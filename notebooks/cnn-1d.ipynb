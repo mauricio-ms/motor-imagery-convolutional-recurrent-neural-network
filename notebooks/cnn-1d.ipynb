{
  "nbformat": 4,
  "nbformat_minor": 0,
  "metadata": {
    "kernelspec": {
      "display_name": "Python 3",
      "language": "python",
      "name": "python3"
    },
    "language_info": {
      "codemirror_mode": {
        "name": "ipython",
        "version": 2
      },
      "file_extension": ".py",
      "mimetype": "text/x-python",
      "name": "python",
      "nbconvert_exporter": "python",
      "pygments_lexer": "ipython2",
      "version": "2.7.6"
    },
    "colab": {
      "name": "cnn-1d.ipynb",
      "provenance": [],
      "include_colab_link": true
    },
    "accelerator": "GPU"
  },
  "cells": [
    {
      "cell_type": "markdown",
      "metadata": {
        "id": "view-in-github",
        "colab_type": "text"
      },
      "source": [
        "<a href=\"https://colab.research.google.com/github/mauricio-ms/motor-imagery-convolutional-recurrent-neural-network/blob/master/notebooks/cnn-1d.ipynb\" target=\"_parent\"><img src=\"https://colab.research.google.com/assets/colab-badge.svg\" alt=\"Open In Colab\"/></a>"
      ]
    },
    {
      "cell_type": "markdown",
      "metadata": {
        "id": "ik5Iayk0b9VF",
        "colab_type": "text"
      },
      "source": [
        "Verify if GPU is enabled"
      ]
    },
    {
      "cell_type": "code",
      "metadata": {
        "id": "JAciPmXZdfjD",
        "colab_type": "code",
        "colab": {
          "base_uri": "https://localhost:8080/",
          "height": 34
        },
        "outputId": "adc7d916-82fa-4461-e0d4-3b5a0dc01ca8"
      },
      "source": [
        "%tensorflow_version 2.x\n",
        "import tensorflow as tf\n",
        "device_name = tf.test.gpu_device_name()\n",
        "if device_name != \"/device:GPU:0\":\n",
        "  raise SystemError(\"GPU device not found\")\n",
        "print(\"Found GPU at: {}\".format(device_name))"
      ],
      "execution_count": 1,
      "outputs": [
        {
          "output_type": "stream",
          "text": [
            "Found GPU at: /device:GPU:0\n"
          ],
          "name": "stdout"
        }
      ]
    },
    {
      "cell_type": "markdown",
      "metadata": {
        "id": "1acvmVTscFNB",
        "colab_type": "text"
      },
      "source": [
        "Mount Google Drive directory"
      ]
    },
    {
      "cell_type": "code",
      "metadata": {
        "id": "z_U7VQvebX5C",
        "colab_type": "code",
        "colab": {
          "base_uri": "https://localhost:8080/",
          "height": 34
        },
        "outputId": "b0ab24cd-1df7-4a2e-e7a3-14b03d5fb20d"
      },
      "source": [
        "from google.colab import drive\n",
        "drive.mount(\"/content/drive\")"
      ],
      "execution_count": 2,
      "outputs": [
        {
          "output_type": "stream",
          "text": [
            "Drive already mounted at /content/drive; to attempt to forcibly remount, call drive.mount(\"/content/drive\", force_remount=True).\n"
          ],
          "name": "stdout"
        }
      ]
    },
    {
      "cell_type": "markdown",
      "metadata": {
        "id": "CE_6jekhJsut",
        "colab_type": "text"
      },
      "source": [
        "Install needed packages"
      ]
    },
    {
      "cell_type": "code",
      "metadata": {
        "id": "h0G2d-3FJvOx",
        "colab_type": "code",
        "colab": {
          "base_uri": "https://localhost:8080/",
          "height": 34
        },
        "outputId": "d47a9534-9ca6-4842-9a8f-8110e40e298f"
      },
      "source": [
        "!pip install colorlog"
      ],
      "execution_count": 3,
      "outputs": [
        {
          "output_type": "stream",
          "text": [
            "Requirement already satisfied: colorlog in /usr/local/lib/python3.6/dist-packages (4.2.1)\n"
          ],
          "name": "stdout"
        }
      ]
    },
    {
      "cell_type": "code",
      "metadata": {
        "id": "9MGP1QOJJg1l",
        "colab_type": "code",
        "colab": {}
      },
      "source": [
        "import logging\n",
        "import colorlog\n",
        "\n",
        "\n",
        "def get_logger(name=\"__main__\", debug=False):\n",
        "    log_format = (\n",
        "        \"[%(levelname)s] \"\n",
        "        \"%(asctime)s - \"\n",
        "        \"%(name)s: \"\n",
        "        \"%(funcName)s - \"\n",
        "        \"%(message)s\"\n",
        "    )\n",
        "    bold_seq = \"\\033[1m\"\n",
        "    colorlog_format = (\n",
        "        f\"{bold_seq} \"\n",
        "        \"%(log_color)s \"\n",
        "        f\"{log_format}\"\n",
        "    )\n",
        "    colorlog.basicConfig(format=colorlog_format)\n",
        "\n",
        "    logger = logging.getLogger(name)\n",
        "    if debug:\n",
        "        logger.setLevel(logging.DEBUG)\n",
        "    else:\n",
        "        logger.setLevel(logging.INFO)\n",
        "\n",
        "    # Output full log\n",
        "    fh = logging.FileHandler(\"app.log\")\n",
        "    fh.setLevel(logging.DEBUG)\n",
        "    formatter = logging.Formatter(log_format)\n",
        "    fh.setFormatter(formatter)\n",
        "    logger.addHandler(fh)\n",
        "\n",
        "    return logger"
      ],
      "execution_count": 4,
      "outputs": []
    },
    {
      "cell_type": "code",
      "metadata": {
        "id": "QcMErN9zJ9b1",
        "colab_type": "code",
        "colab": {}
      },
      "source": [
        "import os\n",
        "import numpy as np\n",
        "\n",
        "LOGGER = get_logger(\"physionet.py\")\n",
        "TFRECORD_FILES_DIR = \"drive/My Drive/motor-imagery-convolutional-recurrent-neural-network/preprocessed-tfrecord-files\""
      ],
      "execution_count": 5,
      "outputs": []
    },
    {
      "cell_type": "code",
      "metadata": {
        "id": "Xi6uU8aLJE5V",
        "colab_type": "code",
        "colab": {}
      },
      "source": [
        "def load_data(train_size=0.75, validation_size=None, n_subjects=None, **kwargs):\n",
        "    LOGGER.info(\"Loading Physionet dataset ...\")\n",
        "    subjects = np.array(sorted(os.listdir(TFRECORD_FILES_DIR)))\n",
        "    if n_subjects is not None:\n",
        "        np.random.shuffle(subjects)\n",
        "        subjects = subjects[:n_subjects]\n",
        "    train_subjects, test_subjects = _train_test_split_subjects(subjects, train_size)\n",
        "    if validation_size is not None:\n",
        "        train_subjects, validation_subjects = _train_test_split_subjects(train_subjects, 1-validation_size)\n",
        "        LOGGER.info(f\"(Train, Validation, Test) Subjects = \"\n",
        "                    f\"({len(train_subjects)}, {len(validation_subjects)}, {len(test_subjects)})\")\n",
        "        LOGGER.info(f\"Train subjects: {train_subjects}\")\n",
        "        LOGGER.info(f\"Validation subjects: {validation_subjects}\")\n",
        "        LOGGER.info(f\"Test subjects: {test_subjects}\")\n",
        "        return _load_set(train_subjects, **kwargs), \\\n",
        "            _load_set(validation_subjects, **kwargs), \\\n",
        "            _load_set(test_subjects, **kwargs)\n",
        "\n",
        "    LOGGER.info(f\"(Train, Test) Subjects = ({len(train_subjects)}, {len(test_subjects)})\")\n",
        "    LOGGER.info(f\"Train subjects: {train_subjects}\")\n",
        "    LOGGER.info(f\"Test subjects: {test_subjects}\")\n",
        "    return _load_set(train_subjects, **kwargs), _load_set(test_subjects, **kwargs)\n",
        "\n",
        "\n",
        "def _train_test_split_subjects(subjects, train_size):\n",
        "    train_subjects_mask = np.random.rand(len(subjects)) < train_size\n",
        "    return subjects[train_subjects_mask], subjects[~train_subjects_mask]\n",
        "\n",
        "\n",
        "# TODO - convert_to_2d should define the data directory\n",
        "def _load_set(subjects, n_readers=tf.data.experimental.AUTOTUNE, \n",
        "              n_parse_threads=tf.data.experimental.AUTOTUNE, \n",
        "              batch_size=100, convert_to_2d=False, expand_dim=False):\n",
        "    path_files = [os.path.join(TFRECORD_FILES_DIR, subject, file_name)\n",
        "                  for subject in subjects\n",
        "                  for file_name in sorted(os.listdir(os.path.join(TFRECORD_FILES_DIR, subject)))]\n",
        "    dataset = tf.data.Dataset.list_files(path_files)\n",
        "    dataset = dataset.interleave(\n",
        "        lambda filepath: tf.data.TFRecordDataset(filepath, compression_type=\"GZIP\"),\n",
        "        cycle_length=n_readers, num_parallel_calls=n_parse_threads)\n",
        "    dataset = dataset.batch(batch_size)\n",
        "    dataset = dataset.map(lambda r: _preprocess(r, expand_dim=expand_dim),\n",
        "                          num_parallel_calls=n_parse_threads)\n",
        "    dataset = dataset.cache()\n",
        "    return dataset.prefetch(tf.data.experimental.AUTOTUNE)\n",
        "\n",
        "\n",
        "@tf.function\n",
        "def _preprocess(serialized_eeg_records, expand_dim=False):\n",
        "    n_channels = 64\n",
        "    feature_description = {\n",
        "      \"X\": tf.io.FixedLenFeature([n_channels], tf.float32),\n",
        "      \"y\": tf.io.FixedLenFeature([], tf.int64)\n",
        "    }\n",
        "    parsed_eeg_records = tf.io.parse_example(serialized_eeg_records, feature_description)\n",
        "    \n",
        "    X = parsed_eeg_records[\"X\"]\n",
        "    y = parsed_eeg_records[\"y\"]\n",
        "    if expand_dim:\n",
        "        X = X[..., np.newaxis]\n",
        "    return X, y"
      ],
      "execution_count": 8,
      "outputs": []
    },
    {
      "cell_type": "code",
      "metadata": {
        "id": "UcolgA00GR82",
        "colab_type": "code",
        "colab": {
          "base_uri": "https://localhost:8080/",
          "height": 275
        },
        "outputId": "0f85ddbd-9a06-4485-dd3f-16ee382da357"
      },
      "source": [
        "train_set, test_set = load_data(expand_dim=True)"
      ],
      "execution_count": 9,
      "outputs": [
        {
          "output_type": "stream",
          "text": [
            "\u001b[1m \u001b[32m [INFO] 2020-08-17 11:06:14,814 - physionet.py: load_data - Loading Physionet dataset ...\u001b[0m\n",
            "\u001b[1m \u001b[32m [INFO] 2020-08-17 11:06:14,820 - physionet.py: load_data - (Train, Test) Subjects = (83, 25)\u001b[0m\n",
            "\u001b[1m \u001b[32m [INFO] 2020-08-17 11:06:14,823 - physionet.py: load_data - Train subjects: ['S002' 'S006' 'S007' 'S008' 'S010' 'S011' 'S012' 'S013' 'S014' 'S015'\n",
            " 'S016' 'S017' 'S018' 'S019' 'S021' 'S023' 'S024' 'S025' 'S026' 'S027'\n",
            " 'S028' 'S029' 'S030' 'S031' 'S032' 'S034' 'S035' 'S036' 'S037' 'S038'\n",
            " 'S039' 'S040' 'S041' 'S042' 'S043' 'S045' 'S046' 'S047' 'S049' 'S050'\n",
            " 'S051' 'S053' 'S056' 'S058' 'S059' 'S061' 'S062' 'S063' 'S064' 'S065'\n",
            " 'S066' 'S067' 'S069' 'S071' 'S072' 'S073' 'S075' 'S076' 'S077' 'S078'\n",
            " 'S079' 'S080' 'S081' 'S082' 'S083' 'S085' 'S086' 'S087' 'S088' 'S090'\n",
            " 'S093' 'S094' 'S095' 'S096' 'S097' 'S098' 'S100' 'S102' 'S104' 'S105'\n",
            " 'S106' 'S107' 'S108']\u001b[0m\n",
            "\u001b[1m \u001b[32m [INFO] 2020-08-17 11:06:14,825 - physionet.py: load_data - Test subjects: ['S001' 'S003' 'S004' 'S005' 'S009' 'S020' 'S022' 'S033' 'S044' 'S048'\n",
            " 'S052' 'S054' 'S055' 'S057' 'S060' 'S068' 'S070' 'S074' 'S084' 'S091'\n",
            " 'S092' 'S099' 'S101' 'S103' 'S109']\u001b[0m\n"
          ],
          "name": "stderr"
        }
      ]
    },
    {
      "cell_type": "code",
      "metadata": {
        "id": "kmenY4YTJTg4",
        "colab_type": "code",
        "colab": {}
      },
      "source": [
        "from tensorflow import keras\n",
        "\n",
        "with tf.device(\"/device:GPU:0\"):\n",
        "  model = keras.models.Sequential([\n",
        "      keras.layers.Conv1D(32, 3, activation=\"relu\",\n",
        "                          kernel_initializer=\"he_normal\",\n",
        "                          padding=\"SAME\",\n",
        "                          input_shape=[64, 1]),\n",
        "      keras.layers.Conv1D(64, 3, activation=\"relu\",\n",
        "                          kernel_initializer=\"he_normal\",\n",
        "                          padding=\"SAME\"),\n",
        "      keras.layers.Conv1D(128, 3, activation=\"relu\",\n",
        "                          kernel_initializer=\"he_normal\",\n",
        "                          padding=\"SAME\"),\n",
        "      keras.layers.Flatten(),\n",
        "      keras.layers.Dropout(0.5),\n",
        "      keras.layers.Dense(1024, activation=\"relu\",\n",
        "                        kernel_initializer=\"he_normal\"),\n",
        "      keras.layers.Dropout(0.5),\n",
        "      keras.layers.Dense(5, activation=\"softmax\")\n",
        "  ])\n",
        "\n",
        "  optimizer = keras.optimizers.Adam(lr=1e-4)\n",
        "  model.compile(loss=\"sparse_categorical_crossentropy\",\n",
        "                optimizer=optimizer,\n",
        "                metrics=[\"accuracy\"])"
      ],
      "execution_count": 10,
      "outputs": []
    },
    {
      "cell_type": "code",
      "metadata": {
        "id": "etNllQYoaqEl",
        "colab_type": "code",
        "colab": {
          "base_uri": "https://localhost:8080/",
          "height": 391
        },
        "outputId": "eb2a3ccb-5396-4fea-dca5-1e3cea1b4d59"
      },
      "source": [
        "LOGGER.info(\"Starting training CNN 1D model ...\")\n",
        "model.fit(train_set, epochs=10, verbose=2)\n",
        "model.save(\"drive/My Drive/motor-imagery-convolutional-recurrent-neural-network/cnn_1d_until_epoch_10.h5\")\n",
        "LOGGER.info(\"Training CNN 1D model end!\")"
      ],
      "execution_count": 11,
      "outputs": [
        {
          "output_type": "stream",
          "text": [
            "\u001b[1m \u001b[32m [INFO] 2020-08-17 11:08:08,600 - physionet.py: <module> - Starting training CNN 1D model ...\u001b[0m\n"
          ],
          "name": "stderr"
        },
        {
          "output_type": "stream",
          "text": [
            "Epoch 1/10\n",
            "105739/105739 - 1145s - loss: 1.6147 - accuracy: 0.5289\n",
            "Epoch 2/10\n",
            "105739/105739 - 1114s - loss: 1.3296 - accuracy: 0.5316\n",
            "Epoch 3/10\n",
            "105739/105739 - 1113s - loss: 1.3413 - accuracy: 0.5330\n",
            "Epoch 4/10\n",
            "105739/105739 - 1113s - loss: 1.3335 - accuracy: 0.5332\n",
            "Epoch 5/10\n",
            "105739/105739 - 1109s - loss: 1.3782 - accuracy: 0.5342\n",
            "Epoch 6/10\n",
            "105739/105739 - 1109s - loss: 1.3520 - accuracy: 0.5343\n",
            "Epoch 7/10\n",
            "105739/105739 - 1108s - loss: 1.3319 - accuracy: 0.5339\n",
            "Epoch 8/10\n",
            "105739/105739 - 1109s - loss: 1.3280 - accuracy: 0.5346\n",
            "Epoch 9/10\n",
            "105739/105739 - 1109s - loss: 1.3538 - accuracy: 0.5353\n",
            "Epoch 10/10\n",
            "105739/105739 - 1105s - loss: 1.3565 - accuracy: 0.5352\n"
          ],
          "name": "stdout"
        },
        {
          "output_type": "stream",
          "text": [
            "\u001b[1m \u001b[32m [INFO] 2020-08-17 14:13:50,078 - physionet.py: <module> - Training CNN 1D model end!\u001b[0m\n"
          ],
          "name": "stderr"
        }
      ]
    },
    {
      "cell_type": "code",
      "metadata": {
        "id": "so2KNjjXyE4u",
        "colab_type": "code",
        "colab": {
          "base_uri": "https://localhost:8080/",
          "height": 289
        },
        "outputId": "a178ede7-5366-4961-99ae-cbaa69abfae8"
      },
      "source": [
        "LOGGER.info(\"Continue training CNN 1D model ...\")\n",
        "model.fit(train_set, epochs=10, verbose=2)\n",
        "model.save(\"drive/My Drive/motor-imagery-convolutional-recurrent-neural-network/cnn_1d_until_epoch_20.h5\")\n",
        "LOGGER.info(\"Training CNN 1D model end!\")"
      ],
      "execution_count": null,
      "outputs": [
        {
          "output_type": "stream",
          "text": [
            "\u001b[1m \u001b[32m [INFO] 2020-08-17 14:17:51,371 - physionet.py: <module> - Continue training CNN 1D model ...\u001b[0m\n"
          ],
          "name": "stderr"
        },
        {
          "output_type": "stream",
          "text": [
            "Epoch 1/10\n",
            "105739/105739 - 1105s - loss: 1.3398 - accuracy: 0.5353\n",
            "Epoch 2/10\n",
            "105739/105739 - 1109s - loss: 1.3427 - accuracy: 0.5354\n",
            "Epoch 3/10\n",
            "105739/105739 - 1110s - loss: 1.3342 - accuracy: 0.5356\n",
            "Epoch 4/10\n",
            "105739/105739 - 1112s - loss: 1.3339 - accuracy: 0.5348\n",
            "Epoch 5/10\n",
            "105739/105739 - 1113s - loss: 1.3476 - accuracy: 0.5348\n",
            "Epoch 6/10\n",
            "105739/105739 - 1110s - loss: 1.3342 - accuracy: 0.5351\n",
            "Epoch 7/10\n",
            "105739/105739 - 1112s - loss: 1.3386 - accuracy: 0.5354\n",
            "Epoch 8/10\n"
          ],
          "name": "stdout"
        }
      ]
    }
  ]
}