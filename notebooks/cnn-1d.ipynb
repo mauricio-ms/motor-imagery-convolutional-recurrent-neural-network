{
  "nbformat": 4,
  "nbformat_minor": 0,
  "metadata": {
    "kernelspec": {
      "display_name": "Python 3",
      "language": "python",
      "name": "python3"
    },
    "language_info": {
      "codemirror_mode": {
        "name": "ipython",
        "version": 2
      },
      "file_extension": ".py",
      "mimetype": "text/x-python",
      "name": "python",
      "nbconvert_exporter": "python",
      "pygments_lexer": "ipython2",
      "version": "2.7.6"
    },
    "colab": {
      "name": "cnn-1d.ipynb",
      "provenance": [],
      "include_colab_link": true
    },
    "accelerator": "GPU"
  },
  "cells": [
    {
      "cell_type": "markdown",
      "metadata": {
        "id": "view-in-github",
        "colab_type": "text"
      },
      "source": [
        "<a href=\"https://colab.research.google.com/github/mauricio-ms/motor-imagery-convolutional-recurrent-neural-network/blob/master/notebooks/cnn-1d.ipynb\" target=\"_parent\"><img src=\"https://colab.research.google.com/assets/colab-badge.svg\" alt=\"Open In Colab\"/></a>"
      ]
    },
    {
      "cell_type": "markdown",
      "metadata": {
        "id": "ik5Iayk0b9VF",
        "colab_type": "text"
      },
      "source": [
        "Verify if GPU is enabled"
      ]
    },
    {
      "cell_type": "code",
      "metadata": {
        "id": "JAciPmXZdfjD",
        "colab_type": "code",
        "colab": {
          "base_uri": "https://localhost:8080/",
          "height": 34
        },
        "outputId": "ab5cb915-a316-4b0e-ab70-de7d05fe3300"
      },
      "source": [
        "%tensorflow_version 2.x\n",
        "import tensorflow as tf\n",
        "device_name = tf.test.gpu_device_name()\n",
        "if device_name != \"/device:GPU:0\":\n",
        "  raise SystemError(\"GPU device not found\")\n",
        "print(\"Found GPU at: {}\".format(device_name))"
      ],
      "execution_count": 1,
      "outputs": [
        {
          "output_type": "stream",
          "text": [
            "Found GPU at: /device:GPU:0\n"
          ],
          "name": "stdout"
        }
      ]
    },
    {
      "cell_type": "markdown",
      "metadata": {
        "id": "1acvmVTscFNB",
        "colab_type": "text"
      },
      "source": [
        "Mount Google Drive directory"
      ]
    },
    {
      "cell_type": "code",
      "metadata": {
        "id": "z_U7VQvebX5C",
        "colab_type": "code",
        "colab": {
          "base_uri": "https://localhost:8080/",
          "height": 34
        },
        "outputId": "f5338ce7-5af7-44f1-b966-0ad64034ef0c"
      },
      "source": [
        "from google.colab import drive\n",
        "drive.mount(\"/content/drive\")"
      ],
      "execution_count": 2,
      "outputs": [
        {
          "output_type": "stream",
          "text": [
            "Drive already mounted at /content/drive; to attempt to forcibly remount, call drive.mount(\"/content/drive\", force_remount=True).\n"
          ],
          "name": "stdout"
        }
      ]
    },
    {
      "cell_type": "markdown",
      "metadata": {
        "id": "CE_6jekhJsut",
        "colab_type": "text"
      },
      "source": [
        "Install needed packages"
      ]
    },
    {
      "cell_type": "code",
      "metadata": {
        "id": "h0G2d-3FJvOx",
        "colab_type": "code",
        "colab": {
          "base_uri": "https://localhost:8080/",
          "height": 34
        },
        "outputId": "35bf412b-5101-443c-aa6e-1d3992e1d78a"
      },
      "source": [
        "!pip install colorlog"
      ],
      "execution_count": 3,
      "outputs": [
        {
          "output_type": "stream",
          "text": [
            "Requirement already satisfied: colorlog in /usr/local/lib/python3.6/dist-packages (4.2.1)\n"
          ],
          "name": "stdout"
        }
      ]
    },
    {
      "cell_type": "code",
      "metadata": {
        "id": "9MGP1QOJJg1l",
        "colab_type": "code",
        "colab": {}
      },
      "source": [
        "import logging\n",
        "import colorlog\n",
        "\n",
        "\n",
        "def get_logger(name=\"__main__\", debug=False):\n",
        "    log_format = (\n",
        "        \"[%(levelname)s] \"\n",
        "        \"%(asctime)s - \"\n",
        "        \"%(name)s: \"\n",
        "        \"%(funcName)s - \"\n",
        "        \"%(message)s\"\n",
        "    )\n",
        "    bold_seq = \"\\033[1m\"\n",
        "    colorlog_format = (\n",
        "        f\"{bold_seq} \"\n",
        "        \"%(log_color)s \"\n",
        "        f\"{log_format}\"\n",
        "    )\n",
        "    colorlog.basicConfig(format=colorlog_format)\n",
        "\n",
        "    logger = logging.getLogger(name)\n",
        "    if debug:\n",
        "        logger.setLevel(logging.DEBUG)\n",
        "    else:\n",
        "        logger.setLevel(logging.INFO)\n",
        "\n",
        "    # Output full log\n",
        "    fh = logging.FileHandler(\"app.log\")\n",
        "    fh.setLevel(logging.DEBUG)\n",
        "    formatter = logging.Formatter(log_format)\n",
        "    fh.setFormatter(formatter)\n",
        "    logger.addHandler(fh)\n",
        "\n",
        "    return logger"
      ],
      "execution_count": 4,
      "outputs": []
    },
    {
      "cell_type": "code",
      "metadata": {
        "id": "QcMErN9zJ9b1",
        "colab_type": "code",
        "colab": {}
      },
      "source": [
        "import os\n",
        "import numpy as np\n",
        "\n",
        "LOGGER = get_logger(\"physionet.py\")\n",
        "TFRECORD_FILES_DIR = \"drive/My Drive/motor-imagery-convolutional-recurrent-neural-network/preprocessed-tfrecord-files\""
      ],
      "execution_count": 5,
      "outputs": []
    },
    {
      "cell_type": "code",
      "metadata": {
        "id": "Xi6uU8aLJE5V",
        "colab_type": "code",
        "colab": {}
      },
      "source": [
        "def load_data(train_size=0.75, validation_size=None, n_subjects=None,\n",
        "              train_subjects=None, test_subjects=None, **kwargs):\n",
        "    LOGGER.info(\"Loading Physionet dataset ...\")\n",
        "    subjects = np.array(sorted(os.listdir(TFRECORD_FILES_DIR)))\n",
        "    if n_subjects is not None:\n",
        "        np.random.shuffle(subjects)\n",
        "        subjects = subjects[:n_subjects]\n",
        "\n",
        "    if train_subjects is None or test_subjects is None:\n",
        "        train_subjects, test_subjects = _train_test_split_subjects(subjects, train_size)\n",
        "\n",
        "    if validation_size is not None:\n",
        "        train_subjects, validation_subjects = _train_test_split_subjects(train_subjects, 1-validation_size)\n",
        "        LOGGER.info(f\"(Train, Validation, Test) Subjects = \"\n",
        "                    f\"({len(train_subjects)}, {len(validation_subjects)}, {len(test_subjects)})\")\n",
        "        LOGGER.info(f\"Train subjects: {train_subjects}\")\n",
        "        LOGGER.info(f\"Validation subjects: {validation_subjects}\")\n",
        "        LOGGER.info(f\"Test subjects: {test_subjects}\")\n",
        "        return _load_set(train_subjects, **kwargs), \\\n",
        "            _load_set(validation_subjects, **kwargs), \\\n",
        "            _load_set(test_subjects, **kwargs)\n",
        "\n",
        "    LOGGER.info(f\"(Train, Test) Subjects = ({len(train_subjects)}, {len(test_subjects)})\")\n",
        "    LOGGER.info(f\"Train subjects: {train_subjects}\")\n",
        "    LOGGER.info(f\"Test subjects: {test_subjects}\")\n",
        "    return _load_set(train_subjects, **kwargs), _load_set(test_subjects, **kwargs)\n",
        "\n",
        "\n",
        "def _train_test_split_subjects(subjects, train_size):\n",
        "    train_subjects_mask = np.random.rand(len(subjects)) < train_size\n",
        "    return subjects[train_subjects_mask], subjects[~train_subjects_mask]\n",
        "\n",
        "\n",
        "# TODO - convert_to_2d should define the data directory\n",
        "def _load_set(subjects, n_readers=tf.data.experimental.AUTOTUNE,\n",
        "              n_parse_threads=tf.data.experimental.AUTOTUNE,\n",
        "              batch_size=100, convert_to_2d=False, expand_dim=False):\n",
        "    path_files = [os.path.join(TFRECORD_FILES_DIR, subject, file_name)\n",
        "                  for subject in subjects\n",
        "                  for file_name in sorted(os.listdir(os.path.join(TFRECORD_FILES_DIR, subject)))]\n",
        "    dataset = tf.data.Dataset.list_files(path_files)\n",
        "    dataset = dataset.interleave(\n",
        "        lambda filepath: tf.data.TFRecordDataset(filepath, compression_type=\"GZIP\"),\n",
        "        cycle_length=n_readers, num_parallel_calls=n_parse_threads)\n",
        "    dataset = dataset.batch(batch_size)\n",
        "    dataset = dataset.map(lambda r: _preprocess(r, expand_dim=expand_dim),\n",
        "                          num_parallel_calls=n_parse_threads)\n",
        "    dataset = dataset.cache()\n",
        "    return dataset.prefetch(1)\n",
        "\n",
        "\n",
        "@tf.function\n",
        "def _preprocess(serialized_eeg_records, expand_dim=False):\n",
        "    n_channels = 64\n",
        "    feature_description = {\n",
        "        \"X\": tf.io.FixedLenFeature([n_channels], tf.float32),\n",
        "        \"y\": tf.io.FixedLenFeature([], tf.int64)\n",
        "    }\n",
        "    parsed_eeg_records = tf.io.parse_example(serialized_eeg_records, feature_description)\n",
        "    X = parsed_eeg_records[\"X\"]\n",
        "    y = parsed_eeg_records[\"y\"]\n",
        "    if expand_dim:\n",
        "        X = X[..., np.newaxis]\n",
        "    return X, y"
      ],
      "execution_count": 6,
      "outputs": []
    },
    {
      "cell_type": "code",
      "metadata": {
        "id": "UcolgA00GR82",
        "colab_type": "code",
        "colab": {
          "base_uri": "https://localhost:8080/",
          "height": 275
        },
        "outputId": "1e9f87a1-623a-4221-97ce-386b333c4c3b"
      },
      "source": [
        "train_set, test_set = load_data(expand_dim=True)"
      ],
      "execution_count": 7,
      "outputs": [
        {
          "output_type": "stream",
          "text": [
            "\u001b[1m \u001b[32m [INFO] 2020-08-18 00:22:46,412 - physionet.py: load_data - Loading Physionet dataset ...\u001b[0m\n",
            "\u001b[1m \u001b[32m [INFO] 2020-08-18 00:22:46,419 - physionet.py: load_data - (Train, Test) Subjects = (75, 33)\u001b[0m\n",
            "\u001b[1m \u001b[32m [INFO] 2020-08-18 00:22:46,423 - physionet.py: load_data - Train subjects: ['S001' 'S002' 'S003' 'S004' 'S005' 'S007' 'S009' 'S010' 'S011' 'S012'\n",
            " 'S013' 'S016' 'S017' 'S018' 'S019' 'S022' 'S023' 'S024' 'S025' 'S027'\n",
            " 'S029' 'S030' 'S031' 'S032' 'S033' 'S037' 'S040' 'S041' 'S043' 'S045'\n",
            " 'S046' 'S049' 'S050' 'S051' 'S052' 'S054' 'S055' 'S056' 'S057' 'S058'\n",
            " 'S060' 'S061' 'S062' 'S064' 'S065' 'S066' 'S068' 'S069' 'S072' 'S073'\n",
            " 'S075' 'S077' 'S078' 'S081' 'S082' 'S083' 'S084' 'S085' 'S086' 'S090'\n",
            " 'S091' 'S092' 'S093' 'S096' 'S097' 'S098' 'S099' 'S100' 'S101' 'S102'\n",
            " 'S103' 'S104' 'S105' 'S106' 'S109']\u001b[0m\n",
            "\u001b[1m \u001b[32m [INFO] 2020-08-18 00:22:46,426 - physionet.py: load_data - Test subjects: ['S006' 'S008' 'S014' 'S015' 'S020' 'S021' 'S026' 'S028' 'S034' 'S035'\n",
            " 'S036' 'S038' 'S039' 'S042' 'S044' 'S047' 'S048' 'S053' 'S059' 'S063'\n",
            " 'S067' 'S070' 'S071' 'S074' 'S076' 'S079' 'S080' 'S087' 'S088' 'S094'\n",
            " 'S095' 'S107' 'S108']\u001b[0m\n"
          ],
          "name": "stderr"
        }
      ]
    },
    {
      "cell_type": "code",
      "metadata": {
        "id": "kmenY4YTJTg4",
        "colab_type": "code",
        "colab": {}
      },
      "source": [
        "from tensorflow import keras\n",
        "\n",
        "with tf.device(\"/device:GPU:0\"):\n",
        "  model = keras.models.Sequential([\n",
        "      keras.layers.Conv1D(32, 3, activation=\"relu\",\n",
        "                          kernel_initializer=\"he_normal\",\n",
        "                          padding=\"SAME\",\n",
        "                          input_shape=[64, 1]),\n",
        "      keras.layers.Conv1D(64, 3, activation=\"relu\",\n",
        "                          kernel_initializer=\"he_normal\",\n",
        "                          padding=\"SAME\"),\n",
        "      keras.layers.Conv1D(128, 3, activation=\"relu\",\n",
        "                          kernel_initializer=\"he_normal\",\n",
        "                          padding=\"SAME\"),\n",
        "      keras.layers.Flatten(),\n",
        "      keras.layers.Dropout(0.5),\n",
        "      keras.layers.Dense(1024, activation=\"relu\",\n",
        "                        kernel_initializer=\"he_normal\"),\n",
        "      keras.layers.Dropout(0.5),\n",
        "      keras.layers.Dense(5, activation=\"softmax\")\n",
        "  ])\n",
        "\n",
        "  optimizer = keras.optimizers.Adam(lr=1e-5)\n",
        "  model.compile(loss=\"sparse_categorical_crossentropy\",\n",
        "                optimizer=optimizer,\n",
        "                metrics=[\"accuracy\"])"
      ],
      "execution_count": 13,
      "outputs": []
    },
    {
      "cell_type": "code",
      "metadata": {
        "id": "etNllQYoaqEl",
        "colab_type": "code",
        "colab": {
          "base_uri": "https://localhost:8080/",
          "height": 68
        },
        "outputId": "1dc39475-a579-4fd2-95e9-a6734e879d47"
      },
      "source": [
        "LOGGER.info(\"Starting training CNN 1D model ...\")\n",
        "model.fit(train_set, epochs=1, verbose=2)\n",
        "model.save_weights(\"drive/My Drive/motor-imagery-convolutional-recurrent-neural-network/cnn-1d-weights-until-epoch-10.h5\")\n",
        "LOGGER.info(\"Training CNN 1D model end!\")"
      ],
      "execution_count": 15,
      "outputs": [
        {
          "output_type": "stream",
          "text": [
            "\u001b[1m \u001b[32m [INFO] 2020-08-18 00:55:04,952 - physionet.py: <module> - Starting training CNN 1D model ...\u001b[0m\n"
          ],
          "name": "stderr"
        },
        {
          "output_type": "stream",
          "text": [
            "95522/95522 - 428s - loss: 1.2805 - accuracy: 0.5344\n"
          ],
          "name": "stdout"
        },
        {
          "output_type": "stream",
          "text": [
            "\u001b[1m \u001b[32m [INFO] 2020-08-18 01:02:14,442 - physionet.py: <module> - Training CNN 1D model end!\u001b[0m\n"
          ],
          "name": "stderr"
        }
      ]
    },
    {
      "cell_type": "code",
      "metadata": {
        "id": "I_I0fE5tCz7z",
        "colab_type": "code",
        "colab": {}
      },
      "source": [
        "from tensorflow import keras\n",
        "\n",
        "with tf.device(\"/device:GPU:0\"):\n",
        "  new_model = keras.models.Sequential([\n",
        "      keras.layers.Conv1D(32, 3, activation=\"relu\",\n",
        "                          kernel_initializer=\"he_normal\",\n",
        "                          padding=\"SAME\",\n",
        "                          input_shape=[64, 1]),\n",
        "      keras.layers.Conv1D(64, 3, activation=\"relu\",\n",
        "                          kernel_initializer=\"he_normal\",\n",
        "                          padding=\"SAME\"),\n",
        "      keras.layers.Conv1D(128, 3, activation=\"relu\",\n",
        "                          kernel_initializer=\"he_normal\",\n",
        "                          padding=\"SAME\"),\n",
        "      keras.layers.Flatten(),\n",
        "      keras.layers.Dropout(0.5),\n",
        "      keras.layers.Dense(1024, activation=\"relu\",\n",
        "                        kernel_initializer=\"he_normal\"),\n",
        "      keras.layers.Dropout(0.5),\n",
        "      keras.layers.Dense(5, activation=\"softmax\")\n",
        "  ])\n",
        "\n",
        "  new_model.load_weights(\"drive/My Drive/motor-imagery-convolutional-recurrent-neural-network/w1.h5\")\n",
        "  optimizer = keras.optimizers.Adam(lr=1e-5)\n",
        "  new_model.compile(loss=\"sparse_categorical_crossentropy\",\n",
        "                optimizer=optimizer,\n",
        "                metrics=[\"accuracy\"])"
      ],
      "execution_count": 17,
      "outputs": []
    },
    {
      "cell_type": "code",
      "metadata": {
        "id": "G2fDnvnoFxfl",
        "colab_type": "code",
        "colab": {
          "base_uri": "https://localhost:8080/",
          "height": 68
        },
        "outputId": "efe49c84-64e9-49f2-9606-c8b95ba5ceec"
      },
      "source": [
        "LOGGER.info(\"Starting training CNN 1D model ...\")\n",
        "new_model.fit(train_set, epochs=1, verbose=2)\n",
        "LOGGER.info(\"Training CNN 1D model end!\")"
      ],
      "execution_count": 18,
      "outputs": [
        {
          "output_type": "stream",
          "text": [
            "\u001b[1m \u001b[32m [INFO] 2020-08-18 01:03:05,541 - physionet.py: <module> - Starting training CNN 1D model ...\u001b[0m\n"
          ],
          "name": "stderr"
        },
        {
          "output_type": "stream",
          "text": [
            "95522/95522 - 429s - loss: 1.2675 - accuracy: 0.5352\n"
          ],
          "name": "stdout"
        },
        {
          "output_type": "stream",
          "text": [
            "\u001b[1m \u001b[32m [INFO] 2020-08-18 01:10:15,042 - physionet.py: <module> - Training CNN 1D model end!\u001b[0m\n"
          ],
          "name": "stderr"
        }
      ]
    },
    {
      "cell_type": "code",
      "metadata": {
        "id": "4BcW4vuWg_SZ",
        "colab_type": "code",
        "colab": {
          "base_uri": "https://localhost:8080/",
          "height": 275
        },
        "outputId": "bc084ef6-24bb-41dd-e4d8-d015253d5a62"
      },
      "source": [
        "model.save('drive/My Drive/motor-imagery-convolutional-recurrent-neural-network/saved_model/my_model')"
      ],
      "execution_count": 15,
      "outputs": [
        {
          "output_type": "stream",
          "text": [
            "WARNING:tensorflow:From /usr/local/lib/python3.6/dist-packages/tensorflow/python/training/tracking/tracking.py:111: Model.state_updates (from tensorflow.python.keras.engine.training) is deprecated and will be removed in a future version.\n",
            "Instructions for updating:\n",
            "This property should not be used in TensorFlow 2.0, as updates are applied automatically.\n"
          ],
          "name": "stdout"
        },
        {
          "output_type": "stream",
          "text": [
            "\u001b[1m \u001b[33m [WARNING] 2020-08-17 22:25:04,310 - tensorflow: new_func - From /usr/local/lib/python3.6/dist-packages/tensorflow/python/training/tracking/tracking.py:111: Model.state_updates (from tensorflow.python.keras.engine.training) is deprecated and will be removed in a future version.\n",
            "Instructions for updating:\n",
            "This property should not be used in TensorFlow 2.0, as updates are applied automatically.\u001b[0m\n"
          ],
          "name": "stderr"
        },
        {
          "output_type": "stream",
          "text": [
            "WARNING:tensorflow:From /usr/local/lib/python3.6/dist-packages/tensorflow/python/training/tracking/tracking.py:111: Layer.updates (from tensorflow.python.keras.engine.base_layer) is deprecated and will be removed in a future version.\n",
            "Instructions for updating:\n",
            "This property should not be used in TensorFlow 2.0, as updates are applied automatically.\n"
          ],
          "name": "stdout"
        },
        {
          "output_type": "stream",
          "text": [
            "\u001b[1m \u001b[33m [WARNING] 2020-08-17 22:25:04,331 - tensorflow: new_func - From /usr/local/lib/python3.6/dist-packages/tensorflow/python/training/tracking/tracking.py:111: Layer.updates (from tensorflow.python.keras.engine.base_layer) is deprecated and will be removed in a future version.\n",
            "Instructions for updating:\n",
            "This property should not be used in TensorFlow 2.0, as updates are applied automatically.\u001b[0m\n"
          ],
          "name": "stderr"
        },
        {
          "output_type": "stream",
          "text": [
            "INFO:tensorflow:Assets written to: drive/My Drive/motor-imagery-convolutional-recurrent-neural-network/saved_model/my_model/assets\n"
          ],
          "name": "stdout"
        },
        {
          "output_type": "stream",
          "text": [
            "\u001b[1m \u001b[32m [INFO] 2020-08-17 22:25:05,545 - tensorflow: copy_assets_to_destination_dir - Assets written to: drive/My Drive/motor-imagery-convolutional-recurrent-neural-network/saved_model/my_model/assets\u001b[0m\n"
          ],
          "name": "stderr"
        }
      ]
    },
    {
      "cell_type": "code",
      "metadata": {
        "id": "uY2Ql2xHTfVW",
        "colab_type": "code",
        "colab": {}
      },
      "source": [
        "train_subjects = ['S002', 'S006', 'S007', 'S008', 'S010', 'S011', 'S012', 'S013', 'S014', 'S015',\n",
        "    'S016', 'S017', 'S018', 'S019', 'S021', 'S023', 'S024', 'S025', 'S026', 'S027',\n",
        "    'S028', 'S029', 'S030', 'S031', 'S032', 'S034', 'S035', 'S036', 'S037', 'S038',\n",
        "    'S039', 'S040', 'S041', 'S042', 'S043', 'S045', 'S046', 'S047', 'S049', 'S050',\n",
        "    'S051', 'S053', 'S056', 'S058', 'S059', 'S061', 'S062', 'S063', 'S064', 'S065',\n",
        "    'S066', 'S067', 'S069', 'S071', 'S072', 'S073', 'S075', 'S076', 'S077', 'S078',\n",
        "    'S079', 'S080', 'S081', 'S082', 'S083', 'S085', 'S086', 'S087', 'S088', 'S090',\n",
        "    'S093', 'S094', 'S095', 'S096', 'S097', 'S098', 'S100', 'S102', 'S104', 'S105',\n",
        "    'S106', 'S107', 'S108']\n",
        "test_subjects = ['S001', 'S003', 'S004', 'S005', 'S009', 'S020', 'S022', 'S033', 'S044', 'S048',\n",
        "    'S052', 'S054', 'S055', 'S057', 'S060', 'S068', 'S070', 'S074', 'S084', 'S091',\n",
        "    'S092', 'S099', 'S101', 'S103', 'S109']\n",
        "train_set, test_set = load_data(expand_dim=True,\n",
        "                                train_subjects=train_subjects,\n",
        "                                test_subjects=test_subjects)"
      ],
      "execution_count": null,
      "outputs": []
    },
    {
      "cell_type": "code",
      "metadata": {
        "id": "so2KNjjXyE4u",
        "colab_type": "code",
        "colab": {
          "base_uri": "https://localhost:8080/",
          "height": 68
        },
        "outputId": "a88e65de-43d8-4f1a-ffe4-bc34eb02ba41"
      },
      "source": [
        "LOGGER.info(\"Continue training CNN 1D model ...\")\n",
        "model_loaded = keras.models.load_model(\"drive/My Drive/motor-imagery-convolutional-recurrent-neural-network/cnn_1d_TEST.h5\")\n",
        "\n",
        "with tf.device(\"/device:GPU:0\"):\n",
        "  optimizer = keras.optimizers.Adam(lr=1e-4)\n",
        "  model.compile(loss=\"sparse_categorical_crossentropy\",\n",
        "                optimizer=optimizer,\n",
        "                metrics=[\"accuracy\"])\n",
        "  \n",
        "model_loaded.fit(train_set, epochs=1, verbose=2)\n",
        "#model.save(\"drive/My Drive/motor-imagery-convolutional-recurrent-neural-network/cnn_1d_until_epoch_20.h5\")\n",
        "LOGGER.info(\"Training CNN 1D model end!\")"
      ],
      "execution_count": 12,
      "outputs": [
        {
          "output_type": "stream",
          "text": [
            "\u001b[1m \u001b[32m [INFO] 2020-08-17 21:57:37,032 - physionet.py: <module> - Continue training CNN 1D model ...\u001b[0m\n"
          ],
          "name": "stderr"
        },
        {
          "output_type": "stream",
          "text": [
            "119598/119598 - 543s - loss: 1.3306 - accuracy: 0.9901\n"
          ],
          "name": "stdout"
        },
        {
          "output_type": "stream",
          "text": [
            "\u001b[1m \u001b[32m [INFO] 2020-08-17 22:06:40,850 - physionet.py: <module> - Training CNN 1D model end!\u001b[0m\n"
          ],
          "name": "stderr"
        }
      ]
    },
    {
      "cell_type": "code",
      "metadata": {
        "id": "E4tnrBea-iVg",
        "colab_type": "code",
        "colab": {
          "base_uri": "https://localhost:8080/",
          "height": 85
        },
        "outputId": "beaf3d85-b5c3-4ab7-ded8-5d5ccebcda59"
      },
      "source": [
        "LOGGER.info(\"Continue training CNN 1D model ...\")\n",
        "model_loaded = keras.models.load_model(\"drive/My Drive/motor-imagery-convolutional-recurrent-neural-network/cnn_1d_TEST2.h5\")\n",
        "model_loaded.fit(train_set, initial_epoch=1, epochs=2, verbose=2)\n",
        "#model.save(\"drive/My Drive/motor-imagery-convolutional-recurrent-neural-network/cnn_1d_until_epoch_20.h5\")\n",
        "LOGGER.info(\"Training CNN 1D model end!\")"
      ],
      "execution_count": 12,
      "outputs": [
        {
          "output_type": "stream",
          "text": [
            "\u001b[1m \u001b[32m [INFO] 2020-08-18 00:38:54,817 - physionet.py: <module> - Continue training CNN 1D model ...\u001b[0m\n"
          ],
          "name": "stderr"
        },
        {
          "output_type": "stream",
          "text": [
            "Epoch 2/2\n",
            "95522/95522 - 386s - loss: nan - accuracy: 1.0000\n"
          ],
          "name": "stdout"
        },
        {
          "output_type": "stream",
          "text": [
            "\u001b[1m \u001b[32m [INFO] 2020-08-18 00:45:21,206 - physionet.py: <module> - Training CNN 1D model end!\u001b[0m\n"
          ],
          "name": "stderr"
        }
      ]
    },
    {
      "cell_type": "code",
      "metadata": {
        "id": "Irnr0CkIhwzV",
        "colab_type": "code",
        "colab": {
          "base_uri": "https://localhost:8080/",
          "height": 68
        },
        "outputId": "38fb7d7e-c763-42ed-9848-ef34efb67b3e"
      },
      "source": [
        "LOGGER.info(\"Continue training CNN 1D model ...\")\n",
        "new_model = tf.keras.models.load_model(\"drive/My Drive/motor-imagery-convolutional-recurrent-neural-network/saved_model/my_model\")\n",
        "new_model.fit(train_set, epochs=1, verbose=2)\n",
        "LOGGER.info(\"Training CNN 1D model end!\")"
      ],
      "execution_count": 9,
      "outputs": [
        {
          "output_type": "stream",
          "text": [
            "\u001b[1m \u001b[32m [INFO] 2020-08-18 00:12:53,124 - physionet.py: <module> - Continue training CNN 1D model ...\u001b[0m\n"
          ],
          "name": "stderr"
        },
        {
          "output_type": "stream",
          "text": [
            "108103/108103 - 531s - loss: 1.3181 - accuracy: 0.9885\n"
          ],
          "name": "stdout"
        },
        {
          "output_type": "stream",
          "text": [
            "\u001b[1m \u001b[32m [INFO] 2020-08-18 00:21:47,741 - physionet.py: <module> - Training CNN 1D model end!\u001b[0m\n"
          ],
          "name": "stderr"
        }
      ]
    },
    {
      "cell_type": "code",
      "metadata": {
        "id": "mgDoGGqf5-75",
        "colab_type": "code",
        "colab": {
          "base_uri": "https://localhost:8080/",
          "height": 1000
        },
        "outputId": "45b73844-253f-4418-dee7-f964e9fec55a"
      },
      "source": [
        "new_model = tf.keras.models.load_model(\"drive/My Drive/motor-imagery-convolutional-recurrent-neural-network/saved_model/my_model\")\n",
        "new_model.get_weights()"
      ],
      "execution_count": 23,
      "outputs": [
        {
          "output_type": "execute_result",
          "data": {
            "text/plain": [
              "[array([[[ 1.2479185 , -1.0484396 ,  0.22399257, -0.14632225,\n",
              "           0.6235714 ,  0.16572039, -0.5934104 ,  0.13705234,\n",
              "          -0.3439609 , -0.97033054, -0.58492875,  0.42525834,\n",
              "          -0.7948191 ,  0.27080575, -0.51774174,  0.6568736 ,\n",
              "          -0.48904008, -0.52082247,  0.94049704, -0.35200733,\n",
              "          -0.17433544,  0.57935137,  0.97350436, -0.6188527 ,\n",
              "          -0.33460578, -1.0815489 , -1.5792785 ,  0.9739131 ,\n",
              "          -0.5957952 ,  0.4966284 ,  0.3782153 ,  0.9370097 ]],\n",
              " \n",
              "        [[-0.45444685,  0.38426158, -0.2099472 , -0.93000185,\n",
              "           0.38673112, -0.7111149 ,  1.1865135 ,  0.2965222 ,\n",
              "           0.35758755,  0.1236002 , -0.06522775, -0.52790517,\n",
              "           0.0904016 ,  0.90957785, -0.30399594,  0.42841777,\n",
              "          -0.58279455,  0.03399912, -0.83413965, -0.62211716,\n",
              "          -0.35138384, -0.17280042, -0.43189576,  0.17056772,\n",
              "           0.51769215, -0.05811964,  1.2582767 ,  0.04461861,\n",
              "          -1.567987  ,  0.5230962 , -0.08693099,  0.534109  ]],\n",
              " \n",
              "        [[-0.6634543 , -0.76108545,  0.4867771 ,  0.8511449 ,\n",
              "          -0.386638  ,  0.830922  ,  1.2018603 , -0.57650477,\n",
              "           0.38099876, -0.5767562 ,  0.10166417, -0.05015619,\n",
              "           0.0517245 , -0.47700185,  0.7229877 , -1.2444028 ,\n",
              "           1.1852919 , -0.05224131,  0.26135796, -0.40157044,\n",
              "          -0.05183198,  0.3694283 ,  0.32627392, -0.20877911,\n",
              "           0.00406456, -0.09762704,  0.79340065, -0.7265734 ,\n",
              "           0.651546  ,  1.1117643 , -0.28130203, -0.76436573]]],\n",
              "       dtype=float32),\n",
              " array([-0.13104647, -0.13792479, -0.02759472,  0.01699127,  0.00259841,\n",
              "        -0.06216609, -0.05849953, -0.10270061,  0.07128859, -0.1948049 ,\n",
              "        -0.0791021 , -0.0307433 ,  0.00865857,  0.00080494,  0.0365525 ,\n",
              "        -0.04065195, -0.10597916,  0.05783504, -0.16348527, -0.17597692,\n",
              "        -0.02348603, -0.07211147, -0.18541296, -0.08636673,  0.04028524,\n",
              "        -0.0918725 , -0.15333292, -0.06517851, -0.1013538 , -0.16424382,\n",
              "        -0.18518096, -0.13997689], dtype=float32),\n",
              " array([[[-0.12304178,  0.02263706,  0.02594279, ..., -0.1221956 ,\n",
              "          -0.02348778,  0.12670816],\n",
              "         [ 0.2002862 ,  0.27946472, -0.22210883, ...,  0.0928921 ,\n",
              "           0.12065452,  0.09684218],\n",
              "         [ 0.08310297,  0.04538549,  0.20456944, ...,  0.12232521,\n",
              "           0.19406681,  0.20348226],\n",
              "         ...,\n",
              "         [ 0.17840816,  0.16132672, -0.05709299, ..., -0.0962071 ,\n",
              "           0.20640253, -0.08654113],\n",
              "         [-0.13467763, -0.1320204 ,  0.04903322, ...,  0.07441477,\n",
              "           0.24584684,  0.04916329],\n",
              "         [ 0.04085593,  0.0595478 , -0.10497183, ..., -0.08703699,\n",
              "          -0.00567108, -0.03323517]],\n",
              " \n",
              "        [[-0.24852222,  0.20682858,  0.05027347, ...,  0.19793877,\n",
              "          -0.1702061 ,  0.17067795],\n",
              "         [-0.19832346, -0.13940267,  0.01879095, ..., -0.12693198,\n",
              "           0.07740543,  0.10992553],\n",
              "         [-0.01909127, -0.0815815 ,  0.04989569, ..., -0.05799352,\n",
              "           0.0706225 ,  0.12474613],\n",
              "         ...,\n",
              "         [-0.06028   ,  0.05680529,  0.03782084, ...,  0.09825858,\n",
              "          -0.17809491,  0.17028347],\n",
              "         [ 0.08449154,  0.06658905,  0.10671488, ..., -0.10654791,\n",
              "           0.02327295,  0.2666961 ],\n",
              "         [-0.23777466, -0.08385873,  0.0394383 , ..., -0.2871949 ,\n",
              "           0.1393699 ,  0.10148892]],\n",
              " \n",
              "        [[-0.08042373,  0.04934416,  0.07944898, ..., -0.23809926,\n",
              "           0.0913799 , -0.10548891],\n",
              "         [ 0.00883069,  0.07495871,  0.03584972, ..., -0.14381085,\n",
              "           0.02351999, -0.17472781],\n",
              "         [-0.24696271, -0.25191882, -0.11078689, ...,  0.19740762,\n",
              "          -0.11722008,  0.04380368],\n",
              "         ...,\n",
              "         [-0.1801367 ,  0.01093527, -0.02384738, ..., -0.05159536,\n",
              "          -0.19107708,  0.07909022],\n",
              "         [-0.06067159,  0.21490096,  0.06892895, ..., -0.04198972,\n",
              "          -0.10459623,  0.10244204],\n",
              "         [-0.03841641, -0.10437214, -0.2882561 , ..., -0.01184902,\n",
              "          -0.10230459, -0.04571312]]], dtype=float32),\n",
              " array([ 0.04816737, -0.04279978,  0.04502835,  0.01033148, -0.00764897,\n",
              "        -0.02681819,  0.00812554, -0.03334641,  0.03831102, -0.02921854,\n",
              "         0.07328546,  0.04226686, -0.04109829,  0.00653701,  0.12399118,\n",
              "         0.00144696, -0.01407436, -0.03737729, -0.04727964, -0.07725217,\n",
              "         0.01362618, -0.02349951, -0.01547313, -0.06706326, -0.00561968,\n",
              "        -0.00586665,  0.03709808, -0.00926761, -0.05808806, -0.0200463 ,\n",
              "         0.02099405, -0.03780299,  0.00387534, -0.05434822, -0.06062527,\n",
              "         0.01833893, -0.02466029, -0.05604027, -0.04799483,  0.04088803,\n",
              "         0.01920958,  0.01767945, -0.00464013, -0.06145203, -0.0014477 ,\n",
              "         0.00348778, -0.04737946, -0.04992958, -0.05552539,  0.23320241,\n",
              "         0.03132673,  0.04016971, -0.02614381,  0.00972496, -0.02015474,\n",
              "        -0.01712419, -0.00978251, -0.04851483, -0.06900794, -0.07557339,\n",
              "        -0.07686687, -0.01355682, -0.01430536, -0.00736189], dtype=float32),\n",
              " array([[[-0.16443284, -0.00963272, -0.11111347, ...,  0.06929428,\n",
              "          -0.02280198,  0.05390216],\n",
              "         [-0.04099068, -0.0605246 , -0.1726421 , ..., -0.02387317,\n",
              "          -0.00696887,  0.10062927],\n",
              "         [ 0.03498148, -0.02047551, -0.15687412, ..., -0.16077147,\n",
              "          -0.03620163,  0.01761028],\n",
              "         ...,\n",
              "         [-0.01065151, -0.07976771, -0.11092667, ..., -0.00942591,\n",
              "          -0.04889166,  0.15070194],\n",
              "         [-0.07900087,  0.03635893, -0.16812511, ...,  0.0473817 ,\n",
              "          -0.04542241,  0.0901557 ],\n",
              "         [-0.01608831, -0.2626835 , -0.02489602, ..., -0.15146843,\n",
              "          -0.08517521, -0.07556036]],\n",
              " \n",
              "        [[ 0.16044053, -0.17766985,  0.04327861, ...,  0.05379467,\n",
              "          -0.1419334 , -0.06843188],\n",
              "         [-0.0992138 , -0.20127398, -0.07673222, ..., -0.09346417,\n",
              "          -0.06021897,  0.04201886],\n",
              "         [ 0.13487405,  0.00079846, -0.14417884, ...,  0.04889051,\n",
              "          -0.0241226 ,  0.0547825 ],\n",
              "         ...,\n",
              "         [ 0.0554821 ,  0.05340853,  0.21534587, ...,  0.01897416,\n",
              "          -0.0843333 , -0.20555234],\n",
              "         [-0.15486193,  0.08384855,  0.01934899, ..., -0.01645863,\n",
              "          -0.13877043,  0.01065749],\n",
              "         [ 0.12928556,  0.15113614, -0.11621621, ..., -0.11570805,\n",
              "          -0.09124662, -0.01163213]],\n",
              " \n",
              "        [[ 0.08905204,  0.11649476, -0.17360862, ..., -0.07654723,\n",
              "          -0.06773487,  0.0370753 ],\n",
              "         [-0.12064777, -0.03777103, -0.1720205 , ...,  0.04228377,\n",
              "          -0.00953695,  0.06006492],\n",
              "         [-0.09470267, -0.12556122, -0.06765724, ..., -0.0853055 ,\n",
              "          -0.08060669, -0.11840183],\n",
              "         ...,\n",
              "         [ 0.02807867,  0.01540186, -0.01719507, ...,  0.05509407,\n",
              "          -0.12472566, -0.03163932],\n",
              "         [-0.15147406, -0.07137626, -0.05239308, ...,  0.00078659,\n",
              "           0.21174458, -0.14922146],\n",
              "         [-0.09917333,  0.03982075,  0.05133835, ...,  0.05381036,\n",
              "           0.07017357, -0.03505291]]], dtype=float32),\n",
              " array([-2.10398100e-02,  2.20610991e-01, -1.99140441e-02,  1.15514204e-01,\n",
              "        -1.46876583e-02,  6.33647516e-02, -5.09933531e-02, -4.39068908e-03,\n",
              "         4.40593176e-02,  4.18419130e-02,  4.61873189e-02,  2.46155262e-01,\n",
              "         4.25118990e-02, -3.01520486e-04,  9.58053023e-02,  7.82094449e-02,\n",
              "         1.33734597e-02,  6.77357987e-03, -9.50935483e-03, -1.77021213e-02,\n",
              "         1.24170452e-01,  2.78824251e-02, -3.23639922e-02,  3.26992162e-02,\n",
              "         1.24961669e-02,  3.13327722e-02,  1.04191229e-01,  8.03709105e-02,\n",
              "         1.13004018e-02, -2.23361291e-02, -7.09571242e-02,  8.67136344e-02,\n",
              "         3.56108649e-05, -2.13848762e-02,  8.76715481e-02,  1.57394614e-02,\n",
              "         1.42587855e-01,  7.70049468e-02,  5.36715202e-02, -3.68770747e-03,\n",
              "         1.65846393e-01,  1.08968504e-01,  1.55325398e-01, -3.87442950e-03,\n",
              "         3.99493389e-02,  6.83149993e-02,  8.04664344e-02, -4.33092937e-05,\n",
              "         4.81704772e-02, -3.86771373e-02,  8.52652267e-02,  7.14850873e-02,\n",
              "         3.98359969e-02, -7.51011521e-02,  5.75266741e-02,  1.89076915e-01,\n",
              "         1.75903812e-02,  8.97314996e-02,  8.57966859e-03,  4.49312367e-02,\n",
              "         1.82482544e-02,  2.37619374e-02, -1.75337195e-02, -2.60513071e-02,\n",
              "        -1.60136707e-02, -4.14571576e-02,  6.57531843e-02, -2.37425580e-03,\n",
              "         1.16078466e-01, -3.47463712e-02,  1.09453378e-02, -5.59702963e-02,\n",
              "        -5.68051683e-03,  2.80718021e-02,  1.80355366e-02,  1.53916314e-01,\n",
              "         8.76565054e-02, -3.14208046e-02,  1.04910485e-01, -2.96691488e-02,\n",
              "         1.73266888e-01,  1.12148449e-01,  7.64722899e-02, -4.33799438e-02,\n",
              "         7.69403279e-02,  2.01709624e-02,  1.32076457e-01, -3.09054870e-02,\n",
              "        -1.71289295e-02,  1.14599228e-01,  1.03295110e-01,  1.00374274e-01,\n",
              "         1.17643736e-02,  5.93575984e-02, -5.63016273e-02,  9.41303652e-03,\n",
              "        -1.33736571e-02,  2.33451109e-02,  1.56635597e-01,  1.06985703e-01,\n",
              "        -1.71722695e-02,  7.34680146e-02,  1.37330070e-02, -3.84015217e-02,\n",
              "         1.36472052e-02,  1.53646125e-02,  3.10881231e-02,  4.43377942e-02,\n",
              "        -2.61657475e-03, -7.13317981e-03,  2.25794852e-01,  3.08173485e-02,\n",
              "         6.76428527e-02,  2.34898198e-02,  1.03212491e-01,  3.45371328e-02,\n",
              "        -1.29049728e-02,  1.26486719e-01,  4.49218713e-02,  6.43324554e-02,\n",
              "        -2.81809811e-02,  4.75651920e-02,  3.79095934e-02,  7.97053892e-03,\n",
              "        -5.05605526e-02,  7.78862834e-02, -7.95845687e-03,  8.90546571e-03],\n",
              "       dtype=float32),\n",
              " array([[ 0.02708068, -0.00163423, -0.01209006, ..., -0.02162139,\n",
              "          0.01343958,  0.0003523 ],\n",
              "        [-0.0395859 , -0.04273225, -0.0481999 , ..., -0.05415196,\n",
              "         -0.04387209, -0.00424365],\n",
              "        [-0.01656443, -0.02275518, -0.00885927, ..., -0.00972796,\n",
              "         -0.03796373,  0.00489694],\n",
              "        ...,\n",
              "        [-0.01592445, -0.01264019, -0.02455551, ...,  0.02748143,\n",
              "          0.01326916,  0.00677423],\n",
              "        [-0.02893612, -0.02256326, -0.01559793, ...,  0.03227263,\n",
              "          0.01242625,  0.01192514],\n",
              "        [-0.01165505, -0.00051515, -0.01807234, ..., -0.03113983,\n",
              "          0.0028902 , -0.02661091]], dtype=float32),\n",
              " array([-0.05941881, -0.05901158, -0.06599633, ..., -0.02914566,\n",
              "        -0.06493939, -0.03445666], dtype=float32),\n",
              " array([[ 0.01791394,  0.02279165,  0.0296811 ,  0.04438359,  0.02457451],\n",
              "        [-0.02414409,  0.00801163, -0.0047719 , -0.07347514,  0.00371718],\n",
              "        [-0.01048119, -0.00927729,  0.00463339, -0.0295951 , -0.0810975 ],\n",
              "        ...,\n",
              "        [-0.00244924, -0.03367592, -0.03034141,  0.02491985,  0.0396158 ],\n",
              "        [ 0.00358805, -0.00496355,  0.00667609,  0.00261333, -0.02896191],\n",
              "        [-0.05922623, -0.04563209, -0.05877256,  0.01901799, -0.00821083]],\n",
              "       dtype=float32),\n",
              " array([ 1.0191529 , -0.39389715, -0.41827103, -0.4706157 , -0.47301057],\n",
              "       dtype=float32)]"
            ]
          },
          "metadata": {
            "tags": []
          },
          "execution_count": 23
        }
      ]
    },
    {
      "cell_type": "code",
      "metadata": {
        "id": "xAuhPI7X6BLP",
        "colab_type": "code",
        "colab": {
          "base_uri": "https://localhost:8080/",
          "height": 51
        },
        "outputId": "d61eacc0-e986-406d-e56e-806afb749235"
      },
      "source": [
        "model.evaluate(test_set)"
      ],
      "execution_count": 12,
      "outputs": [
        {
          "output_type": "stream",
          "text": [
            "31783/31783 [==============================] - 101s 3ms/step - loss: 4.4890 - accuracy: 0.9649\n"
          ],
          "name": "stdout"
        },
        {
          "output_type": "execute_result",
          "data": {
            "text/plain": [
              "[4.488966941833496, 0.96487957239151]"
            ]
          },
          "metadata": {
            "tags": []
          },
          "execution_count": 12
        }
      ]
    },
    {
      "cell_type": "code",
      "metadata": {
        "id": "y7avnSFL6Drk",
        "colab_type": "code",
        "colab": {
          "base_uri": "https://localhost:8080/",
          "height": 34
        },
        "outputId": "f06c8474-9f3c-4311-8d33-0fb82b16859c"
      },
      "source": [
        "from tensorflow import keras\n",
        "\n",
        "model = keras.models.load_model(\"drive/My Drive/motor-imagery-convolutional-recurrent-neural-network/cnn_1d_until_epoch_10.h5\")\n",
        "model"
      ],
      "execution_count": 5,
      "outputs": [
        {
          "output_type": "execute_result",
          "data": {
            "text/plain": [
              "<tensorflow.python.keras.engine.sequential.Sequential at 0x7fb484a78278>"
            ]
          },
          "metadata": {
            "tags": []
          },
          "execution_count": 5
        }
      ]
    }
  ]
}